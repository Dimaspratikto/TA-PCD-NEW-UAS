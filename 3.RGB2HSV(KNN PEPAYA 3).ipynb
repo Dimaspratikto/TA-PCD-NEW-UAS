{
 "cells": [
  {
   "cell_type": "markdown",
   "metadata": {},
   "source": [
    "# RGB TO HSV PADA PEPAYA 3"
   ]
  },
  {
   "cell_type": "markdown",
   "metadata": {},
   "source": [
    "DIMAS PRATIKTO\n",
    "06.2018.1.06958"
   ]
  },
  {
   "cell_type": "code",
   "execution_count": 1,
   "metadata": {},
   "outputs": [],
   "source": [
    "import cv2\n",
    "import pandas as pd\n",
    "import numpy as np\n",
    "from sklearn.neighbors import KNeighborsClassifier\n",
    "from sklearn import neighbors\n",
    "from sklearn.neighbors import NearestNeighbors\n",
    "from sklearn.neighbors import KNeighborsRegressor"
   ]
  },
  {
   "cell_type": "code",
   "execution_count": 2,
   "metadata": {},
   "outputs": [],
   "source": [
    "original = cv2. imread('pepaya 3.jpeg')"
   ]
  },
  {
   "cell_type": "code",
   "execution_count": 3,
   "metadata": {},
   "outputs": [],
   "source": [
    "#Resize Gambar\n",
    "h, w = original.shape[:2]\n",
    "new_h, new_w= int(h/2), int(w/2)\n",
    "image= cv2.resize(original,(new_w, new_h))"
   ]
  },
  {
   "cell_type": "code",
   "execution_count": 4,
   "metadata": {},
   "outputs": [],
   "source": [
    "#Convert RGB KE HSV\n",
    "hsv= cv2.cvtColor(image, cv2.COLOR_RGB2HSV)"
   ]
  },
  {
   "cell_type": "code",
   "execution_count": 5,
   "metadata": {},
   "outputs": [
    {
     "name": "stdout",
     "output_type": "stream",
     "text": [
      "[[[ 10   7 106]\n",
      "  [ 10   7 108]\n",
      "  [ 10   7 107]\n",
      "  ...\n",
      "  [128  15  70]\n",
      "  [128  14  72]\n",
      "  [128  12  85]]\n",
      "\n",
      " [[ 10   8 100]\n",
      "  [ 10   7 103]\n",
      "  [ 10   7 104]\n",
      "  ...\n",
      "  [128  13  76]\n",
      "  [128  12  83]\n",
      "  [128  11  91]]\n",
      "\n",
      " [[ 10   8  96]\n",
      "  [ 10   8  99]\n",
      "  [ 10   8 100]\n",
      "  ...\n",
      "  [128  13  81]\n",
      "  [128  11  89]\n",
      "  [128  11  93]]\n",
      "\n",
      " ...\n",
      "\n",
      " [[  0   0 141]\n",
      "  [  0   0 143]\n",
      "  [  0   0 147]\n",
      "  ...\n",
      "  [100   7 111]\n",
      "  [100   7 106]\n",
      "  [100   8 102]]\n",
      "\n",
      " [[  0   0 143]\n",
      "  [  0   0 142]\n",
      "  [  0   0 146]\n",
      "  ...\n",
      "  [100   7 106]\n",
      "  [100   7 104]\n",
      "  [100   8 102]]\n",
      "\n",
      " [[  0   0 140]\n",
      "  [  0   0 145]\n",
      "  [  0   0 148]\n",
      "  ...\n",
      "  [100   7 103]\n",
      "  [100   8 101]\n",
      "  [100   7 103]]]\n"
     ]
    }
   ],
   "source": [
    "#Print Nilai HSV\n",
    "print(hsv)"
   ]
  },
  {
   "cell_type": "code",
   "execution_count": 6,
   "metadata": {},
   "outputs": [],
   "source": [
    "#Menampilkan Gambar HSV\n",
    "cv2.imshow('Gambar HSV', hsv)"
   ]
  },
  {
   "cell_type": "code",
   "execution_count": 7,
   "metadata": {},
   "outputs": [],
   "source": [
    "#Menampilkan Gambar Tiap H,S,V\n",
    "cv2.imshow('H Channel', hsv[: ,: ,0])\n",
    "cv2.imshow('S Channel', hsv[: ,: ,1])\n",
    "cv2.imshow('V Channel', hsv[: ,: ,2])\n",
    "cv2.waitKey(0)\n",
    "cv2.destroyAllWindows()"
   ]
  },
  {
   "cell_type": "code",
   "execution_count": 8,
   "metadata": {},
   "outputs": [
    {
     "name": "stdout",
     "output_type": "stream",
     "text": [
      "Nilai Rata-rata H : 100.477546875 S:  30.234489583333332 V:  130.562078125\n"
     ]
    }
   ],
   "source": [
    "#Memperoleh Nilai Rata-Rata Tiap H,S,V\n",
    "H = hsv[: ,: ,0]\n",
    "S = hsv[: ,: ,1]\n",
    "V = hsv[: ,: ,2]\n",
    "meanH = np.mean(H)\n",
    "meanH = float(meanH)\n",
    "meanS = np.mean(S)\n",
    "meanS = float(meanS)\n",
    "meanV = np.mean(V)\n",
    "meanV = float(meanV)\n",
    "print(\"Nilai Rata-rata H :\", meanH,\"S: \", meanS,\"V: \",meanV)"
   ]
  },
  {
   "cell_type": "markdown",
   "metadata": {},
   "source": [
    "# NILAI DARI RATA-RATA TERSEBUT DIMASUKAN KEDALAM EXCEL SEBAGAI DATASET KNN"
   ]
  },
  {
   "cell_type": "code",
   "execution_count": null,
   "metadata": {},
   "outputs": [],
   "source": []
  }
 ],
 "metadata": {
  "kernelspec": {
   "display_name": "Python 3",
   "language": "python",
   "name": "python3"
  },
  "language_info": {
   "codemirror_mode": {
    "name": "ipython",
    "version": 3
   },
   "file_extension": ".py",
   "mimetype": "text/x-python",
   "name": "python",
   "nbconvert_exporter": "python",
   "pygments_lexer": "ipython3",
   "version": "3.8.5"
  }
 },
 "nbformat": 4,
 "nbformat_minor": 4
}
